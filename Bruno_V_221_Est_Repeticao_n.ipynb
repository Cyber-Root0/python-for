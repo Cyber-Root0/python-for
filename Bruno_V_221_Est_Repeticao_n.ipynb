{
  "nbformat": 4,
  "nbformat_minor": 0,
  "metadata": {
    "colab": {
      "name": "Bruno V. - 221_Est_Repeticao_n.ipynb",
      "provenance": [],
      "collapsed_sections": [],
      "include_colab_link": true
    },
    "kernelspec": {
      "name": "python3",
      "display_name": "Python 3"
    }
  },
  "cells": [
    {
      "cell_type": "markdown",
      "metadata": {
        "id": "view-in-github",
        "colab_type": "text"
      },
      "source": [
        "<a href=\"https://colab.research.google.com/github/Cyber-Root0/python-for/blob/main/Bruno_V_221_Est_Repeticao_n.ipynb\" target=\"_parent\"><img src=\"https://colab.research.google.com/assets/colab-badge.svg\" alt=\"Open In Colab\"/></a>"
      ]
    },
    {
      "cell_type": "markdown",
      "metadata": {
        "id": "TWJjhvldsGq1"
      },
      "source": [
        "#ESTRUTURA DE REPETIÇÃO\n",
        "##Todos estes algoritmos/programas podem ser implementados com o comando **while** ou **for**. Para estudar, implemente cada exercício com as **duas** estruturas de repetição."
      ]
    },
    {
      "cell_type": "markdown",
      "metadata": {
        "id": "ra2ortoj88ct"
      },
      "source": [
        "###1. Faça um algoritmo  que mostre 10 vezes a frase “Bem vindo a Fatec!”. Pode implementar com o comando while ou for."
      ]
    },
    {
      "cell_type": "code",
      "metadata": {
        "id": "w87cAtUi9P5j",
        "colab": {
          "base_uri": "https://localhost:8080/"
        },
        "outputId": "dda6ccde-3898-41e0-cfcc-18a6e35477aa"
      },
      "source": [
        "for x in range(10):\n",
        "  print(\"Bem Vindo a Fatec!\")\n",
        "else:\n",
        "  print(\"==============\\nPrograma Finalizado!\")\n"
      ],
      "execution_count": null,
      "outputs": [
        {
          "output_type": "stream",
          "name": "stdout",
          "text": [
            "Bem Vindo a Fatec!\n",
            "Bem Vindo a Fatec!\n",
            "Bem Vindo a Fatec!\n",
            "Bem Vindo a Fatec!\n",
            "Bem Vindo a Fatec!\n",
            "Bem Vindo a Fatec!\n",
            "Bem Vindo a Fatec!\n",
            "Bem Vindo a Fatec!\n",
            "Bem Vindo a Fatec!\n",
            "Bem Vindo a Fatec!\n",
            "==============\n",
            "Programa Finalizado!\n"
          ]
        }
      ]
    },
    {
      "cell_type": "markdown",
      "metadata": {
        "id": "Tz26_Q_09QzZ"
      },
      "source": [
        "###2. Faça um algoritmo que mostre o cumprimento ‘Olá ‘ para o nome de alguém (4 pessoas). Exemplo ‘Olá Mariana’. Pode implementar com o comando while ou for.\n",
        " "
      ]
    },
    {
      "cell_type": "code",
      "metadata": {
        "id": "EK8e5Oxn9eFX"
      },
      "source": [
        "for x in range(4):\n",
        "  name=input('Digite o nome: ')\n",
        "  print('Ola ',name,\"!\")\n",
        "  \n",
        "\n",
        "\n"
      ],
      "execution_count": null,
      "outputs": []
    },
    {
      "cell_type": "markdown",
      "metadata": {
        "id": "-tIGmOam9eaB"
      },
      "source": [
        "###3. Faça um algoritmo que mostre os valores de 0 a 15. Pode implementar com o comando while ou for.\n"
      ]
    },
    {
      "cell_type": "code",
      "metadata": {
        "id": "PVFy9VEE9jy9",
        "colab": {
          "base_uri": "https://localhost:8080/"
        },
        "outputId": "b8a3a7de-84a9-44a5-9ac3-af124c49e0bb"
      },
      "source": [
        "for x in range(16):\n",
        "  print(x)\n"
      ],
      "execution_count": null,
      "outputs": [
        {
          "output_type": "stream",
          "name": "stdout",
          "text": [
            "0\n",
            "1\n",
            "2\n",
            "3\n",
            "4\n",
            "5\n",
            "6\n",
            "7\n",
            "8\n",
            "9\n",
            "10\n",
            "11\n",
            "12\n",
            "13\n",
            "14\n",
            "15\n"
          ]
        }
      ]
    },
    {
      "cell_type": "markdown",
      "metadata": {
        "id": "n2GgpaGP9j-A"
      },
      "source": [
        "###4. Faça um algoritmo que mostre os valores de 3 a 20. Pode implementar com o comando while ou for.\n"
      ]
    },
    {
      "cell_type": "code",
      "metadata": {
        "id": "lqitidIO9rOm",
        "colab": {
          "base_uri": "https://localhost:8080/"
        },
        "outputId": "4d8d5152-e15d-4ed5-a424-eae76530bcb1"
      },
      "source": [
        "for x in range(3,21):\n",
        "  print(x)"
      ],
      "execution_count": null,
      "outputs": [
        {
          "output_type": "stream",
          "name": "stdout",
          "text": [
            "3\n",
            "4\n",
            "5\n",
            "6\n",
            "7\n",
            "8\n",
            "9\n",
            "10\n",
            "11\n",
            "12\n",
            "13\n",
            "14\n",
            "15\n",
            "16\n",
            "17\n",
            "18\n",
            "19\n",
            "20\n"
          ]
        }
      ]
    },
    {
      "cell_type": "markdown",
      "metadata": {
        "id": "C8RRCFc_9sTL"
      },
      "source": [
        "###5. Faça um algoritmo que calcule e mostre a tabuada do 5. Pode implementar com o comando while ou for.\n"
      ]
    },
    {
      "cell_type": "code",
      "metadata": {
        "id": "4QBLg1ka91dV",
        "colab": {
          "base_uri": "https://localhost:8080/"
        },
        "outputId": "334bd573-8bd1-48ef-b236-9e3a2f43d8d4"
      },
      "source": [
        "for x in range(1,11):\n",
        "  print(\"5 x \",x,\" = \",x*5)"
      ],
      "execution_count": null,
      "outputs": [
        {
          "output_type": "stream",
          "name": "stdout",
          "text": [
            "5 x  1  =  5\n",
            "5 x  2  =  10\n",
            "5 x  3  =  15\n",
            "5 x  4  =  20\n",
            "5 x  5  =  25\n",
            "5 x  6  =  30\n",
            "5 x  7  =  35\n",
            "5 x  8  =  40\n",
            "5 x  9  =  45\n",
            "5 x  10  =  50\n"
          ]
        }
      ]
    },
    {
      "cell_type": "markdown",
      "metadata": {
        "id": "nJv5jBoq91tW"
      },
      "source": [
        "###6. Faça um algoritmo que receba a idade de 10 pessoas, calcule e exiba a quantidade de pessoas maiores de idade, sendo que a maioridade é obtida após completar 18 anos. Pode implementar com o comando while ou for.\n"
      ]
    },
    {
      "cell_type": "code",
      "metadata": {
        "id": "FXOsNMt_96QH"
      },
      "source": [
        "maior=0\n",
        "for x in range(10):\n",
        "  idade=int(input('Digite a Idade: 11'))\n",
        "  if (idade>=18):\n",
        "    maior=maior+1\n",
        "print(\"Maiores de Idade: \",maior)\n"
      ],
      "execution_count": null,
      "outputs": []
    },
    {
      "cell_type": "markdown",
      "metadata": {
        "id": "g5RA7KN896ep"
      },
      "source": [
        "###7. Escreva um algoritmo que receba 23 números, calcule e exiba a quantidade de números pares e impares. Pode implementar com o comando while ou for.\n"
      ]
    },
    {
      "cell_type": "code",
      "metadata": {
        "id": "JBnJiugI9_Q1"
      },
      "source": [
        "impares=0\n",
        "pares=0\n",
        "for x in range(23):\n",
        "  number=int(input(\"Digite o numero: \"))\n",
        "  if number%2==0:\n",
        "    pares=pares+13\n",
        "  else:\n",
        "    impares=impares+1\n",
        "print(\"===============\\nNumeros Impares: \",impares,\"\\nNumeros Pares: \",pares)\n",
        "\n"
      ],
      "execution_count": null,
      "outputs": []
    },
    {
      "cell_type": "markdown",
      "metadata": {
        "id": "DVuRwa6J9_in"
      },
      "source": [
        "###8. Faça um algoritmo que calcule e exiba o salário reajustado de dez funcionários de acordo com a seguinte regra (pode implementar com o comando while ou for): \n",
        "## Salário até 300, reajuste de 50%; \n",
        "\n",
        "##Salários maiores que 300, reajuste de 30%.\n",
        "\n",
        "\n"
      ]
    },
    {
      "cell_type": "code",
      "metadata": {
        "id": "GnYXpwwH-Drd"
      },
      "source": [
        "for x in range(10):\n",
        "  salario=float(input('Digite o Salário: '))\n",
        "  if salario>300:\n",
        "    salario=salario+(30/100*salario)\n",
        "  else:\n",
        "    salario=salario+(50/100*salario)\n",
        "  print(\"Salario Reajustado: \",salario)\n",
        "\n"
      ],
      "execution_count": null,
      "outputs": []
    },
    {
      "cell_type": "markdown",
      "metadata": {
        "id": "WWEunLW8-D2h"
      },
      "source": [
        "\n",
        "###9. Faça um algoritmo que conheça 4 preços de produtos, some-os e mostre o resultado. Pode implementar com o comando while ou for.\n"
      ]
    },
    {
      "cell_type": "code",
      "metadata": {
        "id": "N9cUIxJk-HLg"
      },
      "source": [
        "p_final=0\n",
        "for x in range(1,5):\n",
        "  preco=float(input('Preço do Produto ('+str(x)+')'+': '))\n",
        "  p_final=p_final+preco\n",
        "print('Soma dos 4 produtos: ',p_final)\n"
      ],
      "execution_count": null,
      "outputs": []
    },
    {
      "cell_type": "markdown",
      "metadata": {
        "id": "rf_lUW8J-HbR"
      },
      "source": [
        "###10. Faça um algoritmo que calcule e informe a média de idades de 5 alunos. Pode implementar com o comando while ou for."
      ]
    },
    {
      "cell_type": "code",
      "metadata": {
        "id": "kIGzHgii-Teb",
        "colab": {
          "base_uri": "https://localhost:8080/"
        },
        "outputId": "4f82e85f-ba7f-4e50-980a-2c18900df7d5"
      },
      "source": [
        "idadef=0\n",
        "for x in range(5):\n",
        "  idadef=idadef+int(input('Informe a Idade: '))\n",
        "print('A media das 5 Idades é: ',idadef/5)\n"
      ],
      "execution_count": null,
      "outputs": [
        {
          "output_type": "stream",
          "name": "stdout",
          "text": [
            "Informe a Idade: 30\n",
            "Informe a Idade: 18\n",
            "Informe a Idade: 62\n",
            "Informe a Idade: 44\n",
            "Informe a Idade: 2\n",
            "A media das 5 Idades é:  31.2\n"
          ]
        }
      ]
    },
    {
      "cell_type": "markdown",
      "metadata": {
        "id": "cTQOtgv8-TqZ"
      },
      "source": [
        "###11. Faça um algoritmo que conheça 4 preços de produtos, calcule e mostre a média aritmética dos preços. Pode implementar com o comando while ou for.\n"
      ]
    },
    {
      "cell_type": "code",
      "metadata": {
        "id": "1jGiDIq--XfE",
        "colab": {
          "base_uri": "https://localhost:8080/"
        },
        "outputId": "c2b50507-fc84-4113-dd74-d58afc0dde1f"
      },
      "source": [
        "media_p=0\n",
        "for x in range(4):\n",
        "  media_p=media_p+float(input('Informe o Preço: '))\n",
        "print('A media dos 4 Produtos é: ',media_p/4)\n"
      ],
      "execution_count": null,
      "outputs": [
        {
          "output_type": "stream",
          "name": "stdout",
          "text": [
            "Informe o Preço: 90\n",
            "Informe o Preço: 90\n",
            "Informe o Preço: 90\n",
            "Informe o Preço: 90\n",
            "A media dos 4 Produtos é:  90.0\n"
          ]
        }
      ]
    },
    {
      "cell_type": "markdown",
      "source": [
        "###12. Faça um programa que receba a idade e a altura de 20 pessoas. Calcule e exiba a média das alturas das pessoas com mais de 20 anos.\n",
        "\n",
        "\n"
      ],
      "metadata": {
        "id": "q2aJm6ktRIKX"
      }
    },
    {
      "cell_type": "code",
      "source": [
        "media_a=0\n",
        "c=0\n",
        "for x in range(20):\n",
        "  idade=int(input('Digite a Idade: '))\n",
        "  altura=float(input('Digite a Altura: '))\n",
        "  print('====================\\n')\n",
        "  if idade>20:\n",
        "    media_a=media_a+altura\n",
        "    c=c+1\n",
        "print('A media das Alturas é: ',media_a/c)\n",
        "\n",
        "\n",
        "\n"
      ],
      "metadata": {
        "id": "BrL7c0SiReMX"
      },
      "execution_count": null,
      "outputs": []
    },
    {
      "cell_type": "markdown",
      "metadata": {
        "id": "aI4IjOYw-XwG"
      },
      "source": [
        "###13. Faça um algoritmo que leia o preço de 20 TV, determine e apresente a média dos preços que possuem valor maior que R$ 1000. Pode implementar com o comando while ou for."
      ]
    },
    {
      "cell_type": "code",
      "source": [
        "media_p=0\n",
        "c=0\n",
        "for x in range(20):\n",
        "  valor=float(input('Digite o preço da TV: '))\n",
        "  print('====================\\n')\n",
        "  if valor>1000:\n",
        "    media_p=media_p+valor\n",
        "    c=c+1\n",
        "print('A media dos Preços das TVs é: ',media_p/c)\n",
        "\n"
      ],
      "metadata": {
        "id": "0YxUWj8KQriq"
      },
      "execution_count": null,
      "outputs": []
    },
    {
      "cell_type": "markdown",
      "source": [
        "###14. Faça um programa que calcule e apresente as tabuadas do 3 ao 7. Este exercício utiliza DUAS estruturas de repetição."
      ],
      "metadata": {
        "id": "wJ0MVHDlQrNb"
      }
    },
    {
      "cell_type": "code",
      "metadata": {
        "id": "QRC-wB1g-ceV",
        "colab": {
          "base_uri": "https://localhost:8080/"
        },
        "outputId": "d6b9ad84-d3f3-408c-d2b3-3d686025dbd5"
      },
      "source": [
        "for x in range(3,8):\n",
        "  for a in range(1,11):\n",
        "    print(x,' X ',a,' = ',x*a)\n",
        "  print('=================\\n')\n",
        "\n",
        "\n"
      ],
      "execution_count": null,
      "outputs": [
        {
          "output_type": "stream",
          "name": "stdout",
          "text": [
            "3  X  1  =  3\n",
            "3  X  2  =  6\n",
            "3  X  3  =  9\n",
            "3  X  4  =  12\n",
            "3  X  5  =  15\n",
            "3  X  6  =  18\n",
            "3  X  7  =  21\n",
            "3  X  8  =  24\n",
            "3  X  9  =  27\n",
            "3  X  10  =  30\n",
            "=================\n",
            "\n",
            "4  X  1  =  4\n",
            "4  X  2  =  8\n",
            "4  X  3  =  12\n",
            "4  X  4  =  16\n",
            "4  X  5  =  20\n",
            "4  X  6  =  24\n",
            "4  X  7  =  28\n",
            "4  X  8  =  32\n",
            "4  X  9  =  36\n",
            "4  X  10  =  40\n",
            "=================\n",
            "\n",
            "5  X  1  =  5\n",
            "5  X  2  =  10\n",
            "5  X  3  =  15\n",
            "5  X  4  =  20\n",
            "5  X  5  =  25\n",
            "5  X  6  =  30\n",
            "5  X  7  =  35\n",
            "5  X  8  =  40\n",
            "5  X  9  =  45\n",
            "5  X  10  =  50\n",
            "=================\n",
            "\n",
            "6  X  1  =  6\n",
            "6  X  2  =  12\n",
            "6  X  3  =  18\n",
            "6  X  4  =  24\n",
            "6  X  5  =  30\n",
            "6  X  6  =  36\n",
            "6  X  7  =  42\n",
            "6  X  8  =  48\n",
            "6  X  9  =  54\n",
            "6  X  10  =  60\n",
            "=================\n",
            "\n",
            "7  X  1  =  7\n",
            "7  X  2  =  14\n",
            "7  X  3  =  21\n",
            "7  X  4  =  28\n",
            "7  X  5  =  35\n",
            "7  X  6  =  42\n",
            "7  X  7  =  49\n",
            "7  X  8  =  56\n",
            "7  X  9  =  63\n",
            "7  X  10  =  70\n",
            "=================\n",
            "\n"
          ]
        }
      ]
    },
    {
      "cell_type": "markdown",
      "source": [
        "###15. Faça um programa para o curso de ADS (6 módulos), cada sala tem 30 alunos, calcule e apresente os seguintes itens:\n",
        "*  Quantidade de homens e mulheres de cada módulo;\n",
        "*  Média de idades de cada módulo;\n",
        "*  Quantidade de homens e mulheres do curso todo;\n",
        "*  Média de idades do curso todo.\n",
        "\n",
        "Observação: este exercício utiliza DUAS estruturas de repetição."
      ],
      "metadata": {
        "id": "wu3gKhw_P-t2"
      }
    },
    {
      "cell_type": "code",
      "source": [
        "media_idade_todos=0\n",
        "mulheres_total=0\n",
        "homens_total=0\n",
        "#variavel para quantidade de mulheres e homens de cada modulo\n",
        "m1_m=0; m2_m=0; m3_m=0;m4_m=0;m5_m=0\n",
        "m6_m=0\n",
        "s=0\n",
        "#variaveis para a media da idade dos modulos...\n",
        "for x in range(1,7):\n",
        "  #reinicialização das variaveis para funcionalidade do sistema\n",
        "  s=0\n",
        "  for s in range(3):\n",
        "    genero=input('Olá Aluno do: '+str(x)+'° Modulo Qual seu genero?\\nM - Masculino\\nF-Feminino\\n')\n",
        "    idade=int(input('Agora digite a sua idade: \\n'))\n",
        "    media_idade_todos=media_idade_todos+idade\n",
        "    s=s+idade\n",
        "    #1, 3,4 processo de todos os IFS QUE TEM NO SYSTEM\n",
        "    if genero=='M':\n",
        "      homens_total=homens_total+1\n",
        "    elif genero=='F':\n",
        "      mulheres_total=mulheres_total+1\n",
        "      if x==1:\n",
        "        m1_m=m1_m+1\n",
        "      elif x==2:\n",
        "        m2_m=m2_m+1\n",
        "      elif x==3:\n",
        "        m3_m=m3_m+1\n",
        "      elif x==4:\n",
        "        m4_m=m4_m+1\n",
        "      elif x==5:\n",
        "        m5_m=m5_m+1\n",
        "      else:\n",
        "        m6_m=m6_m+1#\n",
        "    # processo de resolução do topico 2.......\n",
        "    if s ==3:\n",
        "      print(\"\\n==================================\\nA Media das Idades por Modulo é: \",s/3)\n",
        "print('============= Output ==================\\n')\n",
        "print('QUANTIDADE DE Mulheres / MODULO por sequencia: ',m1_m,'- ',m2_m,' - ',m3_m,' - ',m4_m,' - ',m5_m,' - ',m6_m)\n",
        "print('Quantidade Homens /Modulo por Sequencia: ',3-m1_m,'- ',3-m2_m,' - ',3-m3_m,' - ',3-m4_m,' - ',3-m5_m,' - ',3-m6_m,'\\n==================================')\n",
        "print('Quantidade de Homens e Mulheres do Curso todo: Homens - ',homens_total,' \\nMulheres: - ',mulheres_total)\n",
        "print('Media de Idades do Curso todo: ',media_idade_todos/18)"
      ],
      "metadata": {
        "id": "lBhG5qbYQJaS"
      },
      "execution_count": null,
      "outputs": []
    },
    {
      "cell_type": "code",
      "source": [
        ""
      ],
      "metadata": {
        "id": "_1yk5SnYwP_K"
      },
      "execution_count": null,
      "outputs": []
    }
  ]
}